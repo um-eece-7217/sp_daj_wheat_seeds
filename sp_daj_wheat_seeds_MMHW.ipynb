{
  "nbformat": 4,
  "nbformat_minor": 0,
  "metadata": {
    "colab": {
      "provenance": []
    },
    "kernelspec": {
      "name": "python3",
      "display_name": "Python 3"
    },
    "language_info": {
      "name": "python"
    }
  },
  "cells": [
    {
      "cell_type": "markdown",
      "source": [
        "# Logistic Regression on Wheat Seeds\n",
        "## Load packages"
      ],
      "metadata": {
        "id": "XGPAN-OvKl1D"
      }
    },
    {
      "cell_type": "code",
      "source": [
        "import pandas as pd\n",
        "from sklearn.linear_model import LogisticRegression\n",
        "import matplotlib.pyplot as plt\n",
        "import numpy as np\n",
        "from matplotlib.colors import ListedColormap\n",
        "from sklearn.model_selection import train_test_split\n",
        "from sklearn.preprocessing import StandardScaler\n",
        "from sklearn.metrics import accuracy_score"
      ],
      "metadata": {
        "id": "5TfU2iMak4LE"
      },
      "execution_count": 1,
      "outputs": []
    },
    {
      "cell_type": "markdown",
      "source": [
        "## Draw Decision Regions Function"
      ],
      "metadata": {
        "id": "LbqtpfDCKvIG"
      }
    },
    {
      "cell_type": "code",
      "source": [
        "def plot_decision_regions(X, y, classifier, test_idx=None, resolution=0.02):\n",
        "    \n",
        "    # X = X.to_numpy()\n",
        "    # y = y.to_numpy()\n",
        "    # setup marker generator and color map\n",
        "    markers = ('o', 's', '^', 'v', '<')\n",
        "    colors = ('red', 'blue', 'lightgreen', 'gray', 'cyan')\n",
        "    cmap = ListedColormap(colors[:len(np.unique(y))])\n",
        "\n",
        "    # plot the decision surface\n",
        "    x1_min, x1_max = X[:, 0].min() - 1, X[:, 0].max() + 1\n",
        "    x2_min, x2_max = X[:, 1].min() - 1, X[:, 1].max() + 1\n",
        "    xx1, xx2 = np.meshgrid(np.arange(x1_min, x1_max, resolution),\n",
        "                           np.arange(x2_min, x2_max, resolution))\n",
        "    lab = classifier.predict(np.array([xx1.ravel(), xx2.ravel()]).T)\n",
        "    lab = lab.reshape(xx1.shape)\n",
        "    plt.contourf(xx1, xx2, lab, alpha=0.3, cmap=cmap)\n",
        "    plt.xlim(xx1.min(), xx1.max())\n",
        "    plt.ylim(xx2.min(), xx2.max())\n",
        "\n",
        "    # plot class examples\n",
        "    for idx, cl in enumerate(np.unique(y)):\n",
        "        plt.scatter(x=X[y == cl, 0], \n",
        "                    y=X[y == cl, 1],\n",
        "                    alpha=0.8, \n",
        "                    c=colors[idx],\n",
        "                    marker=markers[idx], \n",
        "                    label=f'Class {cl}', \n",
        "                    edgecolor='black')\n",
        "\n",
        "    # highlight test examples\n",
        "    if test_idx:\n",
        "        # plot all examples\n",
        "        X_test, y_test = X[test_idx, :], y[test_idx]\n",
        "\n",
        "        plt.scatter(X_test[:, 0],\n",
        "                    X_test[:, 1],\n",
        "                    c='none',\n",
        "                    edgecolor='black',\n",
        "                    alpha=1.0,\n",
        "                    linewidth=1,\n",
        "                    marker='o',\n",
        "                    s=100, \n",
        "                    label='Test set')  "
      ],
      "metadata": {
        "id": "yHhBmF9Xo2Qt"
      },
      "execution_count": 2,
      "outputs": []
    },
    {
      "cell_type": "markdown",
      "source": [
        "# Data Preprocessing\n",
        "## Download the Wheat Seed dataset from the given link"
      ],
      "metadata": {
        "id": "AWYWI5wUK7yi"
      }
    },
    {
      "cell_type": "code",
      "execution_count": 3,
      "metadata": {
        "colab": {
          "base_uri": "https://localhost:8080/"
        },
        "id": "D_RkFj8RitZA",
        "outputId": "89abc421-6a96-4bf6-9db3-94ebfac1a030"
      },
      "outputs": [
        {
          "output_type": "stream",
          "name": "stdout",
          "text": [
            "--2023-02-13 23:41:38--  https://archive.ics.uci.edu/ml/machine-learning-databases/00236/seeds_dataset.txt\n",
            "Resolving archive.ics.uci.edu (archive.ics.uci.edu)... 128.195.10.252\n",
            "Connecting to archive.ics.uci.edu (archive.ics.uci.edu)|128.195.10.252|:443... connected.\n",
            "HTTP request sent, awaiting response... 200 OK\n",
            "Length: 9300 (9.1K) [application/x-httpd-php]\n",
            "Saving to: ‘seeds_dataset.txt’\n",
            "\n",
            "seeds_dataset.txt   100%[===================>]   9.08K  --.-KB/s    in 0s      \n",
            "\n",
            "2023-02-13 23:41:38 (64.0 MB/s) - ‘seeds_dataset.txt’ saved [9300/9300]\n",
            "\n"
          ]
        }
      ],
      "source": [
        "!wget https://archive.ics.uci.edu/ml/machine-learning-databases/00236/seeds_dataset.txt\n",
        "path = '/content/seeds_dataset.txt'"
      ]
    },
    {
      "cell_type": "markdown",
      "source": [
        "## Read Wheat Seed Data with all features and target values"
      ],
      "metadata": {
        "id": "emptLNogLEEp"
      }
    },
    {
      "cell_type": "code",
      "source": [
        "features = ['Area',\n",
        "            'Perimeter',\n",
        "            'Compactness',\n",
        "            'Length of kernel',\n",
        "            'Width of kernel',\n",
        "            'Asymmetry coefficient',\n",
        "            'Length of kernel groove.']\n",
        "\n",
        "df = pd.read_csv(path, delimiter=r'[\\t]+',\n",
        "                 names=features + ['target'])\n",
        "display(df)"
      ],
      "metadata": {
        "colab": {
          "base_uri": "https://localhost:8080/",
          "height": 479
        },
        "id": "V4O5Okerk4Oc",
        "outputId": "597c0b84-0268-4d1b-c16a-439ee87c625a"
      },
      "execution_count": 4,
      "outputs": [
        {
          "output_type": "stream",
          "name": "stderr",
          "text": [
            "/usr/local/lib/python3.8/dist-packages/pandas/util/_decorators.py:311: ParserWarning: Falling back to the 'python' engine because the 'c' engine does not support regex separators (separators > 1 char and different from '\\s+' are interpreted as regex); you can avoid this warning by specifying engine='python'.\n",
            "  return func(*args, **kwargs)\n"
          ]
        },
        {
          "output_type": "display_data",
          "data": {
            "text/plain": [
              "      Area  Perimeter  Compactness  Length of kernel  Width of kernel  \\\n",
              "0    15.26      14.84       0.8710             5.763            3.312   \n",
              "1    14.88      14.57       0.8811             5.554            3.333   \n",
              "2    14.29      14.09       0.9050             5.291            3.337   \n",
              "3    13.84      13.94       0.8955             5.324            3.379   \n",
              "4    16.14      14.99       0.9034             5.658            3.562   \n",
              "..     ...        ...          ...               ...              ...   \n",
              "205  12.19      13.20       0.8783             5.137            2.981   \n",
              "206  11.23      12.88       0.8511             5.140            2.795   \n",
              "207  13.20      13.66       0.8883             5.236            3.232   \n",
              "208  11.84      13.21       0.8521             5.175            2.836   \n",
              "209  12.30      13.34       0.8684             5.243            2.974   \n",
              "\n",
              "     Asymmetry coefficient  Length of kernel groove.  target  \n",
              "0                    2.221                     5.220       1  \n",
              "1                    1.018                     4.956       1  \n",
              "2                    2.699                     4.825       1  \n",
              "3                    2.259                     4.805       1  \n",
              "4                    1.355                     5.175       1  \n",
              "..                     ...                       ...     ...  \n",
              "205                  3.631                     4.870       3  \n",
              "206                  4.325                     5.003       3  \n",
              "207                  8.315                     5.056       3  \n",
              "208                  3.598                     5.044       3  \n",
              "209                  5.637                     5.063       3  \n",
              "\n",
              "[210 rows x 8 columns]"
            ],
            "text/html": [
              "\n",
              "  <div id=\"df-d1ff9ec2-ffe2-46dd-9e7f-c0b32a055f5c\">\n",
              "    <div class=\"colab-df-container\">\n",
              "      <div>\n",
              "<style scoped>\n",
              "    .dataframe tbody tr th:only-of-type {\n",
              "        vertical-align: middle;\n",
              "    }\n",
              "\n",
              "    .dataframe tbody tr th {\n",
              "        vertical-align: top;\n",
              "    }\n",
              "\n",
              "    .dataframe thead th {\n",
              "        text-align: right;\n",
              "    }\n",
              "</style>\n",
              "<table border=\"1\" class=\"dataframe\">\n",
              "  <thead>\n",
              "    <tr style=\"text-align: right;\">\n",
              "      <th></th>\n",
              "      <th>Area</th>\n",
              "      <th>Perimeter</th>\n",
              "      <th>Compactness</th>\n",
              "      <th>Length of kernel</th>\n",
              "      <th>Width of kernel</th>\n",
              "      <th>Asymmetry coefficient</th>\n",
              "      <th>Length of kernel groove.</th>\n",
              "      <th>target</th>\n",
              "    </tr>\n",
              "  </thead>\n",
              "  <tbody>\n",
              "    <tr>\n",
              "      <th>0</th>\n",
              "      <td>15.26</td>\n",
              "      <td>14.84</td>\n",
              "      <td>0.8710</td>\n",
              "      <td>5.763</td>\n",
              "      <td>3.312</td>\n",
              "      <td>2.221</td>\n",
              "      <td>5.220</td>\n",
              "      <td>1</td>\n",
              "    </tr>\n",
              "    <tr>\n",
              "      <th>1</th>\n",
              "      <td>14.88</td>\n",
              "      <td>14.57</td>\n",
              "      <td>0.8811</td>\n",
              "      <td>5.554</td>\n",
              "      <td>3.333</td>\n",
              "      <td>1.018</td>\n",
              "      <td>4.956</td>\n",
              "      <td>1</td>\n",
              "    </tr>\n",
              "    <tr>\n",
              "      <th>2</th>\n",
              "      <td>14.29</td>\n",
              "      <td>14.09</td>\n",
              "      <td>0.9050</td>\n",
              "      <td>5.291</td>\n",
              "      <td>3.337</td>\n",
              "      <td>2.699</td>\n",
              "      <td>4.825</td>\n",
              "      <td>1</td>\n",
              "    </tr>\n",
              "    <tr>\n",
              "      <th>3</th>\n",
              "      <td>13.84</td>\n",
              "      <td>13.94</td>\n",
              "      <td>0.8955</td>\n",
              "      <td>5.324</td>\n",
              "      <td>3.379</td>\n",
              "      <td>2.259</td>\n",
              "      <td>4.805</td>\n",
              "      <td>1</td>\n",
              "    </tr>\n",
              "    <tr>\n",
              "      <th>4</th>\n",
              "      <td>16.14</td>\n",
              "      <td>14.99</td>\n",
              "      <td>0.9034</td>\n",
              "      <td>5.658</td>\n",
              "      <td>3.562</td>\n",
              "      <td>1.355</td>\n",
              "      <td>5.175</td>\n",
              "      <td>1</td>\n",
              "    </tr>\n",
              "    <tr>\n",
              "      <th>...</th>\n",
              "      <td>...</td>\n",
              "      <td>...</td>\n",
              "      <td>...</td>\n",
              "      <td>...</td>\n",
              "      <td>...</td>\n",
              "      <td>...</td>\n",
              "      <td>...</td>\n",
              "      <td>...</td>\n",
              "    </tr>\n",
              "    <tr>\n",
              "      <th>205</th>\n",
              "      <td>12.19</td>\n",
              "      <td>13.20</td>\n",
              "      <td>0.8783</td>\n",
              "      <td>5.137</td>\n",
              "      <td>2.981</td>\n",
              "      <td>3.631</td>\n",
              "      <td>4.870</td>\n",
              "      <td>3</td>\n",
              "    </tr>\n",
              "    <tr>\n",
              "      <th>206</th>\n",
              "      <td>11.23</td>\n",
              "      <td>12.88</td>\n",
              "      <td>0.8511</td>\n",
              "      <td>5.140</td>\n",
              "      <td>2.795</td>\n",
              "      <td>4.325</td>\n",
              "      <td>5.003</td>\n",
              "      <td>3</td>\n",
              "    </tr>\n",
              "    <tr>\n",
              "      <th>207</th>\n",
              "      <td>13.20</td>\n",
              "      <td>13.66</td>\n",
              "      <td>0.8883</td>\n",
              "      <td>5.236</td>\n",
              "      <td>3.232</td>\n",
              "      <td>8.315</td>\n",
              "      <td>5.056</td>\n",
              "      <td>3</td>\n",
              "    </tr>\n",
              "    <tr>\n",
              "      <th>208</th>\n",
              "      <td>11.84</td>\n",
              "      <td>13.21</td>\n",
              "      <td>0.8521</td>\n",
              "      <td>5.175</td>\n",
              "      <td>2.836</td>\n",
              "      <td>3.598</td>\n",
              "      <td>5.044</td>\n",
              "      <td>3</td>\n",
              "    </tr>\n",
              "    <tr>\n",
              "      <th>209</th>\n",
              "      <td>12.30</td>\n",
              "      <td>13.34</td>\n",
              "      <td>0.8684</td>\n",
              "      <td>5.243</td>\n",
              "      <td>2.974</td>\n",
              "      <td>5.637</td>\n",
              "      <td>5.063</td>\n",
              "      <td>3</td>\n",
              "    </tr>\n",
              "  </tbody>\n",
              "</table>\n",
              "<p>210 rows × 8 columns</p>\n",
              "</div>\n",
              "      <button class=\"colab-df-convert\" onclick=\"convertToInteractive('df-d1ff9ec2-ffe2-46dd-9e7f-c0b32a055f5c')\"\n",
              "              title=\"Convert this dataframe to an interactive table.\"\n",
              "              style=\"display:none;\">\n",
              "        \n",
              "  <svg xmlns=\"http://www.w3.org/2000/svg\" height=\"24px\"viewBox=\"0 0 24 24\"\n",
              "       width=\"24px\">\n",
              "    <path d=\"M0 0h24v24H0V0z\" fill=\"none\"/>\n",
              "    <path d=\"M18.56 5.44l.94 2.06.94-2.06 2.06-.94-2.06-.94-.94-2.06-.94 2.06-2.06.94zm-11 1L8.5 8.5l.94-2.06 2.06-.94-2.06-.94L8.5 2.5l-.94 2.06-2.06.94zm10 10l.94 2.06.94-2.06 2.06-.94-2.06-.94-.94-2.06-.94 2.06-2.06.94z\"/><path d=\"M17.41 7.96l-1.37-1.37c-.4-.4-.92-.59-1.43-.59-.52 0-1.04.2-1.43.59L10.3 9.45l-7.72 7.72c-.78.78-.78 2.05 0 2.83L4 21.41c.39.39.9.59 1.41.59.51 0 1.02-.2 1.41-.59l7.78-7.78 2.81-2.81c.8-.78.8-2.07 0-2.86zM5.41 20L4 18.59l7.72-7.72 1.47 1.35L5.41 20z\"/>\n",
              "  </svg>\n",
              "      </button>\n",
              "      \n",
              "  <style>\n",
              "    .colab-df-container {\n",
              "      display:flex;\n",
              "      flex-wrap:wrap;\n",
              "      gap: 12px;\n",
              "    }\n",
              "\n",
              "    .colab-df-convert {\n",
              "      background-color: #E8F0FE;\n",
              "      border: none;\n",
              "      border-radius: 50%;\n",
              "      cursor: pointer;\n",
              "      display: none;\n",
              "      fill: #1967D2;\n",
              "      height: 32px;\n",
              "      padding: 0 0 0 0;\n",
              "      width: 32px;\n",
              "    }\n",
              "\n",
              "    .colab-df-convert:hover {\n",
              "      background-color: #E2EBFA;\n",
              "      box-shadow: 0px 1px 2px rgba(60, 64, 67, 0.3), 0px 1px 3px 1px rgba(60, 64, 67, 0.15);\n",
              "      fill: #174EA6;\n",
              "    }\n",
              "\n",
              "    [theme=dark] .colab-df-convert {\n",
              "      background-color: #3B4455;\n",
              "      fill: #D2E3FC;\n",
              "    }\n",
              "\n",
              "    [theme=dark] .colab-df-convert:hover {\n",
              "      background-color: #434B5C;\n",
              "      box-shadow: 0px 1px 3px 1px rgba(0, 0, 0, 0.15);\n",
              "      filter: drop-shadow(0px 1px 2px rgba(0, 0, 0, 0.3));\n",
              "      fill: #FFFFFF;\n",
              "    }\n",
              "  </style>\n",
              "\n",
              "      <script>\n",
              "        const buttonEl =\n",
              "          document.querySelector('#df-d1ff9ec2-ffe2-46dd-9e7f-c0b32a055f5c button.colab-df-convert');\n",
              "        buttonEl.style.display =\n",
              "          google.colab.kernel.accessAllowed ? 'block' : 'none';\n",
              "\n",
              "        async function convertToInteractive(key) {\n",
              "          const element = document.querySelector('#df-d1ff9ec2-ffe2-46dd-9e7f-c0b32a055f5c');\n",
              "          const dataTable =\n",
              "            await google.colab.kernel.invokeFunction('convertToInteractive',\n",
              "                                                     [key], {});\n",
              "          if (!dataTable) return;\n",
              "\n",
              "          const docLinkHtml = 'Like what you see? Visit the ' +\n",
              "            '<a target=\"_blank\" href=https://colab.research.google.com/notebooks/data_table.ipynb>data table notebook</a>'\n",
              "            + ' to learn more about interactive tables.';\n",
              "          element.innerHTML = '';\n",
              "          dataTable['output_type'] = 'display_data';\n",
              "          await google.colab.output.renderOutput(dataTable, element);\n",
              "          const docLink = document.createElement('div');\n",
              "          docLink.innerHTML = docLinkHtml;\n",
              "          element.appendChild(docLink);\n",
              "        }\n",
              "      </script>\n",
              "    </div>\n",
              "  </div>\n",
              "  "
            ]
          },
          "metadata": {}
        }
      ]
    },
    {
      "cell_type": "markdown",
      "source": [
        "## Split the train and test values"
      ],
      "metadata": {
        "id": "ArsO1iC9LL8e"
      }
    },
    {
      "cell_type": "code",
      "source": [
        "X = df.loc[:, features]\n",
        "y = df.loc[:, 'target']\n",
        "\n",
        "X_train, X_test, y_train, y_test = train_test_split(\n",
        "    X, y, test_size=0.3, random_state=1)\n",
        "\n",
        "print('Labels counts in y:', np.bincount(y)[1:])\n",
        "print('Labels counts in y_train:', np.bincount(y_train)[1:])\n",
        "print('Labels counts in y_test:', np.bincount(y_test)[1:])"
      ],
      "metadata": {
        "colab": {
          "base_uri": "https://localhost:8080/"
        },
        "id": "Z3FGA-jkojEj",
        "outputId": "ae9d5192-796b-40ed-a429-4b155d9e53ed"
      },
      "execution_count": 5,
      "outputs": [
        {
          "output_type": "stream",
          "name": "stdout",
          "text": [
            "Labels counts in y: [70 70 70]\n",
            "Labels counts in y_train: [46 52 49]\n",
            "Labels counts in y_test: [24 18 21]\n"
          ]
        }
      ]
    },
    {
      "cell_type": "markdown",
      "source": [
        "# Classification\n",
        "## Classify Based on features 5 and 6"
      ],
      "metadata": {
        "id": "wq94p8BHKaWM"
      }
    },
    {
      "cell_type": "code",
      "source": [
        "selecte_feature_1 = features[5]\n",
        "selecte_feature_2 = features[4]\n",
        "\n",
        "lr = LogisticRegression()\n",
        "lr.fit(X_train.loc[:, [selecte_feature_1, selecte_feature_2]],\n",
        "       y_train)\n",
        "\n",
        "y_predict = lr.predict(X_test.loc[:, [selecte_feature_1, selecte_feature_2]])\n",
        "print('Predicted:', y_predict)\n",
        "print('True class:', np.array(y_test))\n",
        "\n",
        "print('\\nAccuracy:', accuracy_score(y_test, y_predict))\n",
        "\n",
        "\n",
        "plot_decision_regions(X.loc[:, [selecte_feature_1, selecte_feature_2]].to_numpy(),\n",
        "                      y, classifier=lr)\n",
        "\n",
        "plt.xlabel(selecte_feature_1)\n",
        "plt.ylabel(selecte_feature_2)\n",
        "plt.legend(loc='upper left')\n",
        "plt.tight_layout()\n",
        "plt.show()"
      ],
      "metadata": {
        "colab": {
          "base_uri": "https://localhost:8080/",
          "height": 438
        },
        "id": "iDpmoXZSiyFC",
        "outputId": "611acc6f-02e3-47da-aabf-58c574f0ed47"
      },
      "execution_count": 11,
      "outputs": [
        {
          "output_type": "stream",
          "name": "stdout",
          "text": [
            "Predicted: [2 3 2 3 1 2 1 3 3 3 2 1 1 1 1 3 3 1 1 1 1 2 2 3 1 3 1 3 3 2 2 2 2 1 2 2 3\n",
            " 2 1 3 1 3 2 3 2 2 3 3 2 3 2 3 2 2 3 1 3 3 3 3 2 3 2]\n",
            "True class: [1 3 1 3 1 2 1 3 3 3 2 1 1 1 1 3 3 1 1 1 1 1 2 3 1 3 1 3 1 2 2 2 2 1 1 2 3\n",
            " 2 1 3 1 3 2 3 2 2 3 3 2 3 2 3 2 2 1 1 3 3 1 3 2 1 2]\n",
            "\n",
            "Accuracy: 0.873015873015873\n"
          ]
        },
        {
          "output_type": "stream",
          "name": "stderr",
          "text": [
            "/usr/local/lib/python3.8/dist-packages/sklearn/base.py:450: UserWarning: X does not have valid feature names, but LogisticRegression was fitted with feature names\n",
            "  warnings.warn(\n"
          ]
        },
        {
          "output_type": "display_data",
          "data": {
            "text/plain": [
              "<Figure size 432x288 with 1 Axes>"
            ],
            "image/png": "[encoded data removed]"
          },
          "metadata": {
            "needs_background": "light"
          }
        }
      ]
    },
    {
      "cell_type": "markdown",
      "source": [
        "## Classify Based on features 1 and 6"
      ],
      "metadata": {
        "id": "keFzYVmWKe7k"
      }
    },
    {
      "cell_type": "code",
      "source": [
        "selecte_feature_1 = features[5]\n",
        "selecte_feature_2 = features[0]\n",
        "\n",
        "lr = LogisticRegression()\n",
        "lr.fit(X_train.loc[:, [selecte_feature_1, selecte_feature_2]],\n",
        "       y_train)\n",
        "\n",
        "y_predict = lr.predict(X_test.loc[:, [selecte_feature_1, selecte_feature_2]])\n",
        "print('Predicted:', y_predict)\n",
        "print('True class:', np.array(y_test))\n",
        "\n",
        "print('\\nAccuracy:', accuracy_score(y_test, y_predict))\n",
        "\n",
        "plot_decision_regions(X.loc[:, [selecte_feature_1, selecte_feature_2]].to_numpy(),\n",
        "                      y, classifier=lr)\n",
        "\n",
        "plt.xlabel(selecte_feature_1)\n",
        "plt.ylabel(selecte_feature_2)\n",
        "plt.legend(loc='upper left')\n",
        "plt.tight_layout()\n",
        "plt.show()"
      ],
      "metadata": {
        "colab": {
          "base_uri": "https://localhost:8080/",
          "height": 438
        },
        "id": "SOpyRXeht2xD",
        "outputId": "0fcbf861-51f1-4bff-caec-a8290c49d1ad"
      },
      "execution_count": 12,
      "outputs": [
        {
          "output_type": "stream",
          "name": "stdout",
          "text": [
            "Predicted: [1 3 2 3 1 2 1 3 3 3 2 1 1 1 1 3 3 1 1 1 1 1 2 3 1 3 1 3 1 2 2 2 2 1 3 2 3\n",
            " 2 1 3 3 3 2 3 2 2 3 3 2 3 2 3 2 2 3 1 3 3 3 3 2 3 2]\n",
            "True class: [1 3 1 3 1 2 1 3 3 3 2 1 1 1 1 3 3 1 1 1 1 1 2 3 1 3 1 3 1 2 2 2 2 1 1 2 3\n",
            " 2 1 3 1 3 2 3 2 2 3 3 2 3 2 3 2 2 1 1 3 3 1 3 2 1 2]\n",
            "\n",
            "Accuracy: 0.9047619047619048\n"
          ]
        },
        {
          "output_type": "stream",
          "name": "stderr",
          "text": [
            "/usr/local/lib/python3.8/dist-packages/sklearn/base.py:450: UserWarning: X does not have valid feature names, but LogisticRegression was fitted with feature names\n",
            "  warnings.warn(\n"
          ]
        },
        {
          "output_type": "display_data",
          "data": {
            "text/plain": [
              "<Figure size 432x288 with 1 Axes>"
            ],
            "image/png": "[encoded data removed]"
          },
          "metadata": {
            "needs_background": "light"
          }
        }
      ]
    },
    {
      "cell_type": "markdown",
      "source": [
        "## Classify based on features 2 and 3"
      ],
      "metadata": {
        "id": "A5b14H1KL5l0"
      }
    },
    {
      "cell_type": "code",
      "source": [
        "selecte_feature_1 = features[1]\n",
        "selecte_feature_2 = features[2]\n",
        "\n",
        "lr = LogisticRegression()\n",
        "lr.fit(X_train.loc[:, [selecte_feature_1, selecte_feature_2]],\n",
        "       y_train)\n",
        "\n",
        "y_predict = lr.predict(X_test.loc[:, [selecte_feature_1, selecte_feature_2]])\n",
        "print('Predicted:', y_predict)\n",
        "print('True class:', np.array(y_test))\n",
        "\n",
        "print('\\nAccuracy:', accuracy_score(y_test, y_predict))\n",
        "\n",
        "plot_decision_regions(X.loc[:, [selecte_feature_1, selecte_feature_2]].to_numpy(),\n",
        "                      y, classifier=lr)\n",
        "\n",
        "plt.xlabel(selecte_feature_1)\n",
        "plt.ylabel(selecte_feature_2)\n",
        "plt.legend(loc='upper left')\n",
        "plt.tight_layout()\n",
        "plt.show()"
      ],
      "metadata": {
        "id": "1MQlrEJjv0nc",
        "colab": {
          "base_uri": "https://localhost:8080/",
          "height": 438
        },
        "outputId": "f64a76d4-c780-47b2-c22e-b47697461a77"
      },
      "execution_count": 13,
      "outputs": [
        {
          "output_type": "stream",
          "name": "stdout",
          "text": [
            "Predicted: [1 3 1 3 1 2 1 3 3 3 2 1 1 1 3 3 3 1 1 1 1 1 2 3 1 3 1 3 1 2 2 2 2 1 1 2 3\n",
            " 2 3 3 3 3 2 3 2 2 3 3 2 3 2 3 2 2 3 1 3 3 3 3 2 1 2]\n",
            "True class: [1 3 1 3 1 2 1 3 3 3 2 1 1 1 1 3 3 1 1 1 1 1 2 3 1 3 1 3 1 2 2 2 2 1 1 2 3\n",
            " 2 1 3 1 3 2 3 2 2 3 3 2 3 2 3 2 2 1 1 3 3 1 3 2 1 2]\n",
            "\n",
            "Accuracy: 0.9206349206349206\n"
          ]
        },
        {
          "output_type": "stream",
          "name": "stderr",
          "text": [
            "/usr/local/lib/python3.8/dist-packages/sklearn/base.py:450: UserWarning: X does not have valid feature names, but LogisticRegression was fitted with feature names\n",
            "  warnings.warn(\n"
          ]
        },
        {
          "output_type": "display_data",
          "data": {
            "text/plain": [
              "<Figure size 432x288 with 1 Axes>"
            ],
            "image/png": "[encoded data removed]"
          },
          "metadata": {
            "needs_background": "light"
          }
        }
      ]
    },
    {
      "cell_type": "code",
      "source": [],
      "metadata": {
        "id": "apm6klJsMU56"
      },
      "execution_count": null,
      "outputs": []
    }
  ]
}
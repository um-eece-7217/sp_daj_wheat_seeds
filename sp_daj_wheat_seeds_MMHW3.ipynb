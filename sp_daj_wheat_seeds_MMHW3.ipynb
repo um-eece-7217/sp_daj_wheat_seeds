{
  "nbformat": 4,
  "nbformat_minor": 0,
  "metadata": {
    "colab": {
      "provenance": [],
      "toc_visible": true
    },
    "kernelspec": {
      "name": "python3",
      "display_name": "Python 3"
    },
    "language_info": {
      "name": "python"
    }
  },
  "cells": [
    {
      "cell_type": "markdown",
      "source": [
        "# Wheat Seeds 3\n",
        "## Load packages"
      ],
      "metadata": {
        "id": "XGPAN-OvKl1D"
      }
    },
    {
      "cell_type": "code",
      "source": [
        "import pandas as pd\n",
        "import matplotlib.pyplot as plt\n",
        "import numpy as np\n",
        "from matplotlib.colors import ListedColormap\n",
        "from sklearn.linear_model import LogisticRegression\n",
        "from sklearn.model_selection import train_test_split\n",
        "from sklearn.preprocessing import StandardScaler\n",
        "from sklearn.metrics import accuracy_score\n",
        "from sklearn.decomposition import PCA\n",
        "from sklearn.discriminant_analysis import LinearDiscriminantAnalysis as LDA"
      ],
      "metadata": {
        "id": "5TfU2iMak4LE"
      },
      "execution_count": 1,
      "outputs": []
    },
    {
      "cell_type": "markdown",
      "source": [
        "## Draw Decision Regions Function"
      ],
      "metadata": {
        "id": "LbqtpfDCKvIG"
      }
    },
    {
      "cell_type": "code",
      "source": [
        "def plot_decision_regions(X, y, classifier, test_idx=None, resolution=0.02):\n",
        "\n",
        "    # setup marker generator and color map\n",
        "    markers = ('o', 's', '^', 'v', '<')\n",
        "    colors = ('red', 'blue', 'lightgreen', 'gray', 'cyan')\n",
        "    cmap = ListedColormap(colors[:len(np.unique(y))])\n",
        "\n",
        "    # plot the decision surface\n",
        "    x1_min, x1_max = X[:, 0].min() - 1, X[:, 0].max() + 1\n",
        "    x2_min, x2_max = X[:, 1].min() - 1, X[:, 1].max() + 1\n",
        "    xx1, xx2 = np.meshgrid(np.arange(x1_min, x1_max, resolution),\n",
        "                           np.arange(x2_min, x2_max, resolution))\n",
        "    lab = classifier.predict(np.array([xx1.ravel(), xx2.ravel()]).T)\n",
        "    lab = lab.reshape(xx1.shape)\n",
        "    plt.contourf(xx1, xx2, lab, alpha=0.3, cmap=cmap)\n",
        "    plt.xlim(xx1.min(), xx1.max())\n",
        "    plt.ylim(xx2.min(), xx2.max())\n",
        "\n",
        "    # plot class examples\n",
        "    for idx, cl in enumerate(np.unique(y)):\n",
        "        plt.scatter(x=X[y == cl, 0], \n",
        "                    y=X[y == cl, 1],\n",
        "                    alpha=0.8, \n",
        "                    c=colors[idx],\n",
        "                    marker=markers[idx], \n",
        "                    label=f'Class {cl}', \n",
        "                    edgecolor='black')"
      ],
      "metadata": {
        "id": "yHhBmF9Xo2Qt"
      },
      "execution_count": 2,
      "outputs": []
    },
    {
      "cell_type": "markdown",
      "source": [
        "# Data Preprocessing\n",
        "## Download the Wheat Seed dataset from the given link"
      ],
      "metadata": {
        "id": "AWYWI5wUK7yi"
      }
    },
    {
      "cell_type": "code",
      "execution_count": 3,
      "metadata": {
        "colab": {
          "base_uri": "https://localhost:8080/"
        },
        "id": "D_RkFj8RitZA",
        "outputId": "1752d342-c905-46dd-dc4b-8a5f798d6ad5"
      },
      "outputs": [
        {
          "output_type": "stream",
          "name": "stdout",
          "text": [
            "--2023-02-20 22:46:10--  https://archive.ics.uci.edu/ml/machine-learning-databases/00236/seeds_dataset.txt\n",
            "Resolving archive.ics.uci.edu (archive.ics.uci.edu)... 128.195.10.252\n",
            "Connecting to archive.ics.uci.edu (archive.ics.uci.edu)|128.195.10.252|:443... connected.\n",
            "HTTP request sent, awaiting response... 200 OK\n",
            "Length: 9300 (9.1K) [application/x-httpd-php]\n",
            "Saving to: ‘seeds_dataset.txt’\n",
            "\n",
            "seeds_dataset.txt   100%[===================>]   9.08K  --.-KB/s    in 0s      \n",
            "\n",
            "2023-02-20 22:46:11 (62.5 MB/s) - ‘seeds_dataset.txt’ saved [9300/9300]\n",
            "\n"
          ]
        }
      ],
      "source": [
        "!wget https://archive.ics.uci.edu/ml/machine-learning-databases/00236/seeds_dataset.txt\n",
        "path = '/content/seeds_dataset.txt'"
      ]
    },
    {
      "cell_type": "markdown",
      "source": [
        "## Read Wheat Seed Data with all features and target values"
      ],
      "metadata": {
        "id": "emptLNogLEEp"
      }
    },
    {
      "cell_type": "code",
      "source": [
        "features = ['Area',\n",
        "            'Perimeter',\n",
        "            'Compactness',\n",
        "            'Length of kernel',\n",
        "            'Width of kernel',\n",
        "            'Asymmetry coefficient',\n",
        "            'Length of kernel groove.']\n",
        "\n",
        "df = pd.read_csv(path, delimiter=r'[\\t]+',\n",
        "                 names=features + ['target'])\n",
        "display(df)"
      ],
      "metadata": {
        "colab": {
          "base_uri": "https://localhost:8080/",
          "height": 479
        },
        "id": "V4O5Okerk4Oc",
        "outputId": "98d4209e-af4d-46d7-f581-e25f98461167"
      },
      "execution_count": 4,
      "outputs": [
        {
          "output_type": "stream",
          "name": "stderr",
          "text": [
            "/usr/local/lib/python3.8/dist-packages/pandas/util/_decorators.py:311: ParserWarning: Falling back to the 'python' engine because the 'c' engine does not support regex separators (separators > 1 char and different from '\\s+' are interpreted as regex); you can avoid this warning by specifying engine='python'.\n",
            "  return func(*args, **kwargs)\n"
          ]
        },
        {
          "output_type": "display_data",
          "data": {
            "text/plain": [
              "      Area  Perimeter  Compactness  Length of kernel  Width of kernel  \\\n",
              "0    15.26      14.84       0.8710             5.763            3.312   \n",
              "1    14.88      14.57       0.8811             5.554            3.333   \n",
              "2    14.29      14.09       0.9050             5.291            3.337   \n",
              "3    13.84      13.94       0.8955             5.324            3.379   \n",
              "4    16.14      14.99       0.9034             5.658            3.562   \n",
              "..     ...        ...          ...               ...              ...   \n",
              "205  12.19      13.20       0.8783             5.137            2.981   \n",
              "206  11.23      12.88       0.8511             5.140            2.795   \n",
              "207  13.20      13.66       0.8883             5.236            3.232   \n",
              "208  11.84      13.21       0.8521             5.175            2.836   \n",
              "209  12.30      13.34       0.8684             5.243            2.974   \n",
              "\n",
              "     Asymmetry coefficient  Length of kernel groove.  target  \n",
              "0                    2.221                     5.220       1  \n",
              "1                    1.018                     4.956       1  \n",
              "2                    2.699                     4.825       1  \n",
              "3                    2.259                     4.805       1  \n",
              "4                    1.355                     5.175       1  \n",
              "..                     ...                       ...     ...  \n",
              "205                  3.631                     4.870       3  \n",
              "206                  4.325                     5.003       3  \n",
              "207                  8.315                     5.056       3  \n",
              "208                  3.598                     5.044       3  \n",
              "209                  5.637                     5.063       3  \n",
              "\n",
              "[210 rows x 8 columns]"
            ],
            "text/html": [
              "\n",
              "  <div id=\"df-aac23d69-4a75-47d8-b805-f78ab15380ba\">\n",
              "    <div class=\"colab-df-container\">\n",
              "      <div>\n",
              "<style scoped>\n",
              "    .dataframe tbody tr th:only-of-type {\n",
              "        vertical-align: middle;\n",
              "    }\n",
              "\n",
              "    .dataframe tbody tr th {\n",
              "        vertical-align: top;\n",
              "    }\n",
              "\n",
              "    .dataframe thead th {\n",
              "        text-align: right;\n",
              "    }\n",
              "</style>\n",
              "<table border=\"1\" class=\"dataframe\">\n",
              "  <thead>\n",
              "    <tr style=\"text-align: right;\">\n",
              "      <th></th>\n",
              "      <th>Area</th>\n",
              "      <th>Perimeter</th>\n",
              "      <th>Compactness</th>\n",
              "      <th>Length of kernel</th>\n",
              "      <th>Width of kernel</th>\n",
              "      <th>Asymmetry coefficient</th>\n",
              "      <th>Length of kernel groove.</th>\n",
              "      <th>target</th>\n",
              "    </tr>\n",
              "  </thead>\n",
              "  <tbody>\n",
              "    <tr>\n",
              "      <th>0</th>\n",
              "      <td>15.26</td>\n",
              "      <td>14.84</td>\n",
              "      <td>0.8710</td>\n",
              "      <td>5.763</td>\n",
              "      <td>3.312</td>\n",
              "      <td>2.221</td>\n",
              "      <td>5.220</td>\n",
              "      <td>1</td>\n",
              "    </tr>\n",
              "    <tr>\n",
              "      <th>1</th>\n",
              "      <td>14.88</td>\n",
              "      <td>14.57</td>\n",
              "      <td>0.8811</td>\n",
              "      <td>5.554</td>\n",
              "      <td>3.333</td>\n",
              "      <td>1.018</td>\n",
              "      <td>4.956</td>\n",
              "      <td>1</td>\n",
              "    </tr>\n",
              "    <tr>\n",
              "      <th>2</th>\n",
              "      <td>14.29</td>\n",
              "      <td>14.09</td>\n",
              "      <td>0.9050</td>\n",
              "      <td>5.291</td>\n",
              "      <td>3.337</td>\n",
              "      <td>2.699</td>\n",
              "      <td>4.825</td>\n",
              "      <td>1</td>\n",
              "    </tr>\n",
              "    <tr>\n",
              "      <th>3</th>\n",
              "      <td>13.84</td>\n",
              "      <td>13.94</td>\n",
              "      <td>0.8955</td>\n",
              "      <td>5.324</td>\n",
              "      <td>3.379</td>\n",
              "      <td>2.259</td>\n",
              "      <td>4.805</td>\n",
              "      <td>1</td>\n",
              "    </tr>\n",
              "    <tr>\n",
              "      <th>4</th>\n",
              "      <td>16.14</td>\n",
              "      <td>14.99</td>\n",
              "      <td>0.9034</td>\n",
              "      <td>5.658</td>\n",
              "      <td>3.562</td>\n",
              "      <td>1.355</td>\n",
              "      <td>5.175</td>\n",
              "      <td>1</td>\n",
              "    </tr>\n",
              "    <tr>\n",
              "      <th>...</th>\n",
              "      <td>...</td>\n",
              "      <td>...</td>\n",
              "      <td>...</td>\n",
              "      <td>...</td>\n",
              "      <td>...</td>\n",
              "      <td>...</td>\n",
              "      <td>...</td>\n",
              "      <td>...</td>\n",
              "    </tr>\n",
              "    <tr>\n",
              "      <th>205</th>\n",
              "      <td>12.19</td>\n",
              "      <td>13.20</td>\n",
              "      <td>0.8783</td>\n",
              "      <td>5.137</td>\n",
              "      <td>2.981</td>\n",
              "      <td>3.631</td>\n",
              "      <td>4.870</td>\n",
              "      <td>3</td>\n",
              "    </tr>\n",
              "    <tr>\n",
              "      <th>206</th>\n",
              "      <td>11.23</td>\n",
              "      <td>12.88</td>\n",
              "      <td>0.8511</td>\n",
              "      <td>5.140</td>\n",
              "      <td>2.795</td>\n",
              "      <td>4.325</td>\n",
              "      <td>5.003</td>\n",
              "      <td>3</td>\n",
              "    </tr>\n",
              "    <tr>\n",
              "      <th>207</th>\n",
              "      <td>13.20</td>\n",
              "      <td>13.66</td>\n",
              "      <td>0.8883</td>\n",
              "      <td>5.236</td>\n",
              "      <td>3.232</td>\n",
              "      <td>8.315</td>\n",
              "      <td>5.056</td>\n",
              "      <td>3</td>\n",
              "    </tr>\n",
              "    <tr>\n",
              "      <th>208</th>\n",
              "      <td>11.84</td>\n",
              "      <td>13.21</td>\n",
              "      <td>0.8521</td>\n",
              "      <td>5.175</td>\n",
              "      <td>2.836</td>\n",
              "      <td>3.598</td>\n",
              "      <td>5.044</td>\n",
              "      <td>3</td>\n",
              "    </tr>\n",
              "    <tr>\n",
              "      <th>209</th>\n",
              "      <td>12.30</td>\n",
              "      <td>13.34</td>\n",
              "      <td>0.8684</td>\n",
              "      <td>5.243</td>\n",
              "      <td>2.974</td>\n",
              "      <td>5.637</td>\n",
              "      <td>5.063</td>\n",
              "      <td>3</td>\n",
              "    </tr>\n",
              "  </tbody>\n",
              "</table>\n",
              "<p>210 rows × 8 columns</p>\n",
              "</div>\n",
              "      <button class=\"colab-df-convert\" onclick=\"convertToInteractive('df-aac23d69-4a75-47d8-b805-f78ab15380ba')\"\n",
              "              title=\"Convert this dataframe to an interactive table.\"\n",
              "              style=\"display:none;\">\n",
              "        \n",
              "  <svg xmlns=\"http://www.w3.org/2000/svg\" height=\"24px\"viewBox=\"0 0 24 24\"\n",
              "       width=\"24px\">\n",
              "    <path d=\"M0 0h24v24H0V0z\" fill=\"none\"/>\n",
              "    <path d=\"M18.56 5.44l.94 2.06.94-2.06 2.06-.94-2.06-.94-.94-2.06-.94 2.06-2.06.94zm-11 1L8.5 8.5l.94-2.06 2.06-.94-2.06-.94L8.5 2.5l-.94 2.06-2.06.94zm10 10l.94 2.06.94-2.06 2.06-.94-2.06-.94-.94-2.06-.94 2.06-2.06.94z\"/><path d=\"M17.41 7.96l-1.37-1.37c-.4-.4-.92-.59-1.43-.59-.52 0-1.04.2-1.43.59L10.3 9.45l-7.72 7.72c-.78.78-.78 2.05 0 2.83L4 21.41c.39.39.9.59 1.41.59.51 0 1.02-.2 1.41-.59l7.78-7.78 2.81-2.81c.8-.78.8-2.07 0-2.86zM5.41 20L4 18.59l7.72-7.72 1.47 1.35L5.41 20z\"/>\n",
              "  </svg>\n",
              "      </button>\n",
              "      \n",
              "  <style>\n",
              "    .colab-df-container {\n",
              "      display:flex;\n",
              "      flex-wrap:wrap;\n",
              "      gap: 12px;\n",
              "    }\n",
              "\n",
              "    .colab-df-convert {\n",
              "      background-color: #E8F0FE;\n",
              "      border: none;\n",
              "      border-radius: 50%;\n",
              "      cursor: pointer;\n",
              "      display: none;\n",
              "      fill: #1967D2;\n",
              "      height: 32px;\n",
              "      padding: 0 0 0 0;\n",
              "      width: 32px;\n",
              "    }\n",
              "\n",
              "    .colab-df-convert:hover {\n",
              "      background-color: #E2EBFA;\n",
              "      box-shadow: 0px 1px 2px rgba(60, 64, 67, 0.3), 0px 1px 3px 1px rgba(60, 64, 67, 0.15);\n",
              "      fill: #174EA6;\n",
              "    }\n",
              "\n",
              "    [theme=dark] .colab-df-convert {\n",
              "      background-color: #3B4455;\n",
              "      fill: #D2E3FC;\n",
              "    }\n",
              "\n",
              "    [theme=dark] .colab-df-convert:hover {\n",
              "      background-color: #434B5C;\n",
              "      box-shadow: 0px 1px 3px 1px rgba(0, 0, 0, 0.15);\n",
              "      filter: drop-shadow(0px 1px 2px rgba(0, 0, 0, 0.3));\n",
              "      fill: #FFFFFF;\n",
              "    }\n",
              "  </style>\n",
              "\n",
              "      <script>\n",
              "        const buttonEl =\n",
              "          document.querySelector('#df-aac23d69-4a75-47d8-b805-f78ab15380ba button.colab-df-convert');\n",
              "        buttonEl.style.display =\n",
              "          google.colab.kernel.accessAllowed ? 'block' : 'none';\n",
              "\n",
              "        async function convertToInteractive(key) {\n",
              "          const element = document.querySelector('#df-aac23d69-4a75-47d8-b805-f78ab15380ba');\n",
              "          const dataTable =\n",
              "            await google.colab.kernel.invokeFunction('convertToInteractive',\n",
              "                                                     [key], {});\n",
              "          if (!dataTable) return;\n",
              "\n",
              "          const docLinkHtml = 'Like what you see? Visit the ' +\n",
              "            '<a target=\"_blank\" href=https://colab.research.google.com/notebooks/data_table.ipynb>data table notebook</a>'\n",
              "            + ' to learn more about interactive tables.';\n",
              "          element.innerHTML = '';\n",
              "          dataTable['output_type'] = 'display_data';\n",
              "          await google.colab.output.renderOutput(dataTable, element);\n",
              "          const docLink = document.createElement('div');\n",
              "          docLink.innerHTML = docLinkHtml;\n",
              "          element.appendChild(docLink);\n",
              "        }\n",
              "      </script>\n",
              "    </div>\n",
              "  </div>\n",
              "  "
            ]
          },
          "metadata": {}
        }
      ]
    },
    {
      "cell_type": "markdown",
      "source": [
        "## Split the train and test values and normalize them"
      ],
      "metadata": {
        "id": "ArsO1iC9LL8e"
      }
    },
    {
      "cell_type": "code",
      "source": [
        "X = df.loc[:, features]\n",
        "y = df.loc[:, 'target']\n",
        "\n",
        "X_train, X_test, y_train, y_test = train_test_split(\n",
        "    X, y, test_size=0.3, stratify=y, random_state=0)\n",
        "\n",
        "scaler = StandardScaler()\n",
        "\n",
        "X_train_std = pd.DataFrame(\n",
        "    scaler.fit_transform(X_train),\n",
        "    columns = X_train.columns\n",
        ")\n",
        "\n",
        "X_test_std = pd.DataFrame(\n",
        "    scaler.transform(X_test),\n",
        "    columns = X_test.columns\n",
        ")\n",
        "print('Labels counts in y:', np.bincount(y)[1:])\n",
        "print('Labels counts in y_train:', np.bincount(y_train)[1:])\n",
        "print('Labels counts in y_test:', np.bincount(y_test)[1:])"
      ],
      "metadata": {
        "colab": {
          "base_uri": "https://localhost:8080/"
        },
        "id": "Z3FGA-jkojEj",
        "outputId": "3f0286b3-2a4a-4557-aafc-e72659da8652"
      },
      "execution_count": 5,
      "outputs": [
        {
          "output_type": "stream",
          "name": "stdout",
          "text": [
            "Labels counts in y: [70 70 70]\n",
            "Labels counts in y_train: [49 49 49]\n",
            "Labels counts in y_test: [21 21 21]\n"
          ]
        }
      ]
    },
    {
      "cell_type": "code",
      "source": [
        "X_train_std"
      ],
      "metadata": {
        "colab": {
          "base_uri": "https://localhost:8080/",
          "height": 423
        },
        "id": "tjfbbwyjhAjc",
        "outputId": "635b201e-8bed-4be8-8667-74cbc2888525"
      },
      "execution_count": 6,
      "outputs": [
        {
          "output_type": "execute_result",
          "data": {
            "text/plain": [
              "         Area  Perimeter  Compactness  Length of kernel  Width of kernel  \\\n",
              "0    1.429874   1.539473    -0.039376          1.815992         0.814170   \n",
              "1   -0.238149  -0.342445     0.894076         -0.470615         0.149722   \n",
              "2    0.707178   0.838516    -0.201896          1.127121         0.577627   \n",
              "3    1.419598   1.425186     0.552366          1.369337         1.353702   \n",
              "4    2.080643   1.905190     1.394140          1.818214         2.089910   \n",
              "..        ...        ...          ...               ...              ...   \n",
              "142 -1.186901  -1.279594    -0.418591         -1.286149        -1.054257   \n",
              "143 -1.443784  -1.630073    -0.201896         -1.628363        -1.219040   \n",
              "144 -0.238149  -0.281492     0.514861         -0.201733        -0.065559   \n",
              "145  0.039284  -0.091015     1.289960         -0.550613         0.442079   \n",
              "146 -0.145672  -0.258635     1.060764         -0.546169         0.176300   \n",
              "\n",
              "     Asymmetry coefficient  Length of kernel groove.  \n",
              "0                -1.104344                  2.083243  \n",
              "1                -0.707340                 -0.827726  \n",
              "2                 0.003841                  1.109581  \n",
              "3                -0.230363                  1.472200  \n",
              "4                 0.946370                  1.818791  \n",
              "..                     ...                       ...  \n",
              "142              -0.245358                 -0.821715  \n",
              "143               0.917094                 -1.240430  \n",
              "144              -0.668782                 -0.751596  \n",
              "145              -1.819809                 -0.651425  \n",
              "146              -0.877280                 -0.915876  \n",
              "\n",
              "[147 rows x 7 columns]"
            ],
            "text/html": [
              "\n",
              "  <div id=\"df-70fc0c60-c130-4030-9921-c405e0877a59\">\n",
              "    <div class=\"colab-df-container\">\n",
              "      <div>\n",
              "<style scoped>\n",
              "    .dataframe tbody tr th:only-of-type {\n",
              "        vertical-align: middle;\n",
              "    }\n",
              "\n",
              "    .dataframe tbody tr th {\n",
              "        vertical-align: top;\n",
              "    }\n",
              "\n",
              "    .dataframe thead th {\n",
              "        text-align: right;\n",
              "    }\n",
              "</style>\n",
              "<table border=\"1\" class=\"dataframe\">\n",
              "  <thead>\n",
              "    <tr style=\"text-align: right;\">\n",
              "      <th></th>\n",
              "      <th>Area</th>\n",
              "      <th>Perimeter</th>\n",
              "      <th>Compactness</th>\n",
              "      <th>Length of kernel</th>\n",
              "      <th>Width of kernel</th>\n",
              "      <th>Asymmetry coefficient</th>\n",
              "      <th>Length of kernel groove.</th>\n",
              "    </tr>\n",
              "  </thead>\n",
              "  <tbody>\n",
              "    <tr>\n",
              "      <th>0</th>\n",
              "      <td>1.429874</td>\n",
              "      <td>1.539473</td>\n",
              "      <td>-0.039376</td>\n",
              "      <td>1.815992</td>\n",
              "      <td>0.814170</td>\n",
              "      <td>-1.104344</td>\n",
              "      <td>2.083243</td>\n",
              "    </tr>\n",
              "    <tr>\n",
              "      <th>1</th>\n",
              "      <td>-0.238149</td>\n",
              "      <td>-0.342445</td>\n",
              "      <td>0.894076</td>\n",
              "      <td>-0.470615</td>\n",
              "      <td>0.149722</td>\n",
              "      <td>-0.707340</td>\n",
              "      <td>-0.827726</td>\n",
              "    </tr>\n",
              "    <tr>\n",
              "      <th>2</th>\n",
              "      <td>0.707178</td>\n",
              "      <td>0.838516</td>\n",
              "      <td>-0.201896</td>\n",
              "      <td>1.127121</td>\n",
              "      <td>0.577627</td>\n",
              "      <td>0.003841</td>\n",
              "      <td>1.109581</td>\n",
              "    </tr>\n",
              "    <tr>\n",
              "      <th>3</th>\n",
              "      <td>1.419598</td>\n",
              "      <td>1.425186</td>\n",
              "      <td>0.552366</td>\n",
              "      <td>1.369337</td>\n",
              "      <td>1.353702</td>\n",
              "      <td>-0.230363</td>\n",
              "      <td>1.472200</td>\n",
              "    </tr>\n",
              "    <tr>\n",
              "      <th>4</th>\n",
              "      <td>2.080643</td>\n",
              "      <td>1.905190</td>\n",
              "      <td>1.394140</td>\n",
              "      <td>1.818214</td>\n",
              "      <td>2.089910</td>\n",
              "      <td>0.946370</td>\n",
              "      <td>1.818791</td>\n",
              "    </tr>\n",
              "    <tr>\n",
              "      <th>...</th>\n",
              "      <td>...</td>\n",
              "      <td>...</td>\n",
              "      <td>...</td>\n",
              "      <td>...</td>\n",
              "      <td>...</td>\n",
              "      <td>...</td>\n",
              "      <td>...</td>\n",
              "    </tr>\n",
              "    <tr>\n",
              "      <th>142</th>\n",
              "      <td>-1.186901</td>\n",
              "      <td>-1.279594</td>\n",
              "      <td>-0.418591</td>\n",
              "      <td>-1.286149</td>\n",
              "      <td>-1.054257</td>\n",
              "      <td>-0.245358</td>\n",
              "      <td>-0.821715</td>\n",
              "    </tr>\n",
              "    <tr>\n",
              "      <th>143</th>\n",
              "      <td>-1.443784</td>\n",
              "      <td>-1.630073</td>\n",
              "      <td>-0.201896</td>\n",
              "      <td>-1.628363</td>\n",
              "      <td>-1.219040</td>\n",
              "      <td>0.917094</td>\n",
              "      <td>-1.240430</td>\n",
              "    </tr>\n",
              "    <tr>\n",
              "      <th>144</th>\n",
              "      <td>-0.238149</td>\n",
              "      <td>-0.281492</td>\n",
              "      <td>0.514861</td>\n",
              "      <td>-0.201733</td>\n",
              "      <td>-0.065559</td>\n",
              "      <td>-0.668782</td>\n",
              "      <td>-0.751596</td>\n",
              "    </tr>\n",
              "    <tr>\n",
              "      <th>145</th>\n",
              "      <td>0.039284</td>\n",
              "      <td>-0.091015</td>\n",
              "      <td>1.289960</td>\n",
              "      <td>-0.550613</td>\n",
              "      <td>0.442079</td>\n",
              "      <td>-1.819809</td>\n",
              "      <td>-0.651425</td>\n",
              "    </tr>\n",
              "    <tr>\n",
              "      <th>146</th>\n",
              "      <td>-0.145672</td>\n",
              "      <td>-0.258635</td>\n",
              "      <td>1.060764</td>\n",
              "      <td>-0.546169</td>\n",
              "      <td>0.176300</td>\n",
              "      <td>-0.877280</td>\n",
              "      <td>-0.915876</td>\n",
              "    </tr>\n",
              "  </tbody>\n",
              "</table>\n",
              "<p>147 rows × 7 columns</p>\n",
              "</div>\n",
              "      <button class=\"colab-df-convert\" onclick=\"convertToInteractive('df-70fc0c60-c130-4030-9921-c405e0877a59')\"\n",
              "              title=\"Convert this dataframe to an interactive table.\"\n",
              "              style=\"display:none;\">\n",
              "        \n",
              "  <svg xmlns=\"http://www.w3.org/2000/svg\" height=\"24px\"viewBox=\"0 0 24 24\"\n",
              "       width=\"24px\">\n",
              "    <path d=\"M0 0h24v24H0V0z\" fill=\"none\"/>\n",
              "    <path d=\"M18.56 5.44l.94 2.06.94-2.06 2.06-.94-2.06-.94-.94-2.06-.94 2.06-2.06.94zm-11 1L8.5 8.5l.94-2.06 2.06-.94-2.06-.94L8.5 2.5l-.94 2.06-2.06.94zm10 10l.94 2.06.94-2.06 2.06-.94-2.06-.94-.94-2.06-.94 2.06-2.06.94z\"/><path d=\"M17.41 7.96l-1.37-1.37c-.4-.4-.92-.59-1.43-.59-.52 0-1.04.2-1.43.59L10.3 9.45l-7.72 7.72c-.78.78-.78 2.05 0 2.83L4 21.41c.39.39.9.59 1.41.59.51 0 1.02-.2 1.41-.59l7.78-7.78 2.81-2.81c.8-.78.8-2.07 0-2.86zM5.41 20L4 18.59l7.72-7.72 1.47 1.35L5.41 20z\"/>\n",
              "  </svg>\n",
              "      </button>\n",
              "      \n",
              "  <style>\n",
              "    .colab-df-container {\n",
              "      display:flex;\n",
              "      flex-wrap:wrap;\n",
              "      gap: 12px;\n",
              "    }\n",
              "\n",
              "    .colab-df-convert {\n",
              "      background-color: #E8F0FE;\n",
              "      border: none;\n",
              "      border-radius: 50%;\n",
              "      cursor: pointer;\n",
              "      display: none;\n",
              "      fill: #1967D2;\n",
              "      height: 32px;\n",
              "      padding: 0 0 0 0;\n",
              "      width: 32px;\n",
              "    }\n",
              "\n",
              "    .colab-df-convert:hover {\n",
              "      background-color: #E2EBFA;\n",
              "      box-shadow: 0px 1px 2px rgba(60, 64, 67, 0.3), 0px 1px 3px 1px rgba(60, 64, 67, 0.15);\n",
              "      fill: #174EA6;\n",
              "    }\n",
              "\n",
              "    [theme=dark] .colab-df-convert {\n",
              "      background-color: #3B4455;\n",
              "      fill: #D2E3FC;\n",
              "    }\n",
              "\n",
              "    [theme=dark] .colab-df-convert:hover {\n",
              "      background-color: #434B5C;\n",
              "      box-shadow: 0px 1px 3px 1px rgba(0, 0, 0, 0.15);\n",
              "      filter: drop-shadow(0px 1px 2px rgba(0, 0, 0, 0.3));\n",
              "      fill: #FFFFFF;\n",
              "    }\n",
              "  </style>\n",
              "\n",
              "      <script>\n",
              "        const buttonEl =\n",
              "          document.querySelector('#df-70fc0c60-c130-4030-9921-c405e0877a59 button.colab-df-convert');\n",
              "        buttonEl.style.display =\n",
              "          google.colab.kernel.accessAllowed ? 'block' : 'none';\n",
              "\n",
              "        async function convertToInteractive(key) {\n",
              "          const element = document.querySelector('#df-70fc0c60-c130-4030-9921-c405e0877a59');\n",
              "          const dataTable =\n",
              "            await google.colab.kernel.invokeFunction('convertToInteractive',\n",
              "                                                     [key], {});\n",
              "          if (!dataTable) return;\n",
              "\n",
              "          const docLinkHtml = 'Like what you see? Visit the ' +\n",
              "            '<a target=\"_blank\" href=https://colab.research.google.com/notebooks/data_table.ipynb>data table notebook</a>'\n",
              "            + ' to learn more about interactive tables.';\n",
              "          element.innerHTML = '';\n",
              "          dataTable['output_type'] = 'display_data';\n",
              "          await google.colab.output.renderOutput(dataTable, element);\n",
              "          const docLink = document.createElement('div');\n",
              "          docLink.innerHTML = docLinkHtml;\n",
              "          element.appendChild(docLink);\n",
              "        }\n",
              "      </script>\n",
              "    </div>\n",
              "  </div>\n",
              "  "
            ]
          },
          "metadata": {},
          "execution_count": 6
        }
      ]
    },
    {
      "cell_type": "code",
      "source": [
        "X_test_std"
      ],
      "metadata": {
        "colab": {
          "base_uri": "https://localhost:8080/",
          "height": 423
        },
        "id": "Do5rfIEad1kA",
        "outputId": "c816cfde-a47d-4644-921e-ff31419d7082"
      },
      "execution_count": 7,
      "outputs": [
        {
          "output_type": "execute_result",
          "data": {
            "text/plain": [
              "        Area  Perimeter  Compactness  Length of kernel  Width of kernel  \\\n",
              "0   0.272190   0.427084    -0.485266          0.444917         0.107198   \n",
              "1  -0.810141  -0.731019    -0.976995         -0.695054        -0.926683   \n",
              "2   1.631955   1.668998     0.344006          1.671551         1.398884   \n",
              "3  -0.933444  -1.005307    -0.135221         -1.183930        -0.823030   \n",
              "4   1.416173   1.348995     1.023259          1.138232         1.539747   \n",
              "..       ...        ...          ...               ...              ...   \n",
              "58 -0.895768  -1.028164     0.360675         -1.099487        -0.703429   \n",
              "59 -0.693687  -0.746257     0.081473         -0.821717        -0.583828   \n",
              "60 -1.361582  -1.211022    -2.489687         -0.786162        -1.607078   \n",
              "61 -0.656011  -0.593875    -0.647786         -0.303953        -0.583828   \n",
              "62 -0.501882  -0.456731    -0.318578         -0.539502        -0.456254   \n",
              "\n",
              "    Asymmetry coefficient  Length of kernel groove.  \n",
              "0               -0.689489                  0.678846  \n",
              "1                0.880679                 -0.286802  \n",
              "2               -1.584177                  1.722627  \n",
              "3               -1.624877                 -0.905859  \n",
              "4               -0.558820                  1.073519  \n",
              "..                    ...                       ...  \n",
              "58              -0.042571                 -1.088170  \n",
              "59              -1.795532                 -1.264471  \n",
              "60               1.064900                 -0.457093  \n",
              "61               1.781079                 -0.194645  \n",
              "62               1.645412                 -0.212676  \n",
              "\n",
              "[63 rows x 7 columns]"
            ],
            "text/html": [
              "\n",
              "  <div id=\"df-5787684d-3a83-4e31-a527-c62bcd18b439\">\n",
              "    <div class=\"colab-df-container\">\n",
              "      <div>\n",
              "<style scoped>\n",
              "    .dataframe tbody tr th:only-of-type {\n",
              "        vertical-align: middle;\n",
              "    }\n",
              "\n",
              "    .dataframe tbody tr th {\n",
              "        vertical-align: top;\n",
              "    }\n",
              "\n",
              "    .dataframe thead th {\n",
              "        text-align: right;\n",
              "    }\n",
              "</style>\n",
              "<table border=\"1\" class=\"dataframe\">\n",
              "  <thead>\n",
              "    <tr style=\"text-align: right;\">\n",
              "      <th></th>\n",
              "      <th>Area</th>\n",
              "      <th>Perimeter</th>\n",
              "      <th>Compactness</th>\n",
              "      <th>Length of kernel</th>\n",
              "      <th>Width of kernel</th>\n",
              "      <th>Asymmetry coefficient</th>\n",
              "      <th>Length of kernel groove.</th>\n",
              "    </tr>\n",
              "  </thead>\n",
              "  <tbody>\n",
              "    <tr>\n",
              "      <th>0</th>\n",
              "      <td>0.272190</td>\n",
              "      <td>0.427084</td>\n",
              "      <td>-0.485266</td>\n",
              "      <td>0.444917</td>\n",
              "      <td>0.107198</td>\n",
              "      <td>-0.689489</td>\n",
              "      <td>0.678846</td>\n",
              "    </tr>\n",
              "    <tr>\n",
              "      <th>1</th>\n",
              "      <td>-0.810141</td>\n",
              "      <td>-0.731019</td>\n",
              "      <td>-0.976995</td>\n",
              "      <td>-0.695054</td>\n",
              "      <td>-0.926683</td>\n",
              "      <td>0.880679</td>\n",
              "      <td>-0.286802</td>\n",
              "    </tr>\n",
              "    <tr>\n",
              "      <th>2</th>\n",
              "      <td>1.631955</td>\n",
              "      <td>1.668998</td>\n",
              "      <td>0.344006</td>\n",
              "      <td>1.671551</td>\n",
              "      <td>1.398884</td>\n",
              "      <td>-1.584177</td>\n",
              "      <td>1.722627</td>\n",
              "    </tr>\n",
              "    <tr>\n",
              "      <th>3</th>\n",
              "      <td>-0.933444</td>\n",
              "      <td>-1.005307</td>\n",
              "      <td>-0.135221</td>\n",
              "      <td>-1.183930</td>\n",
              "      <td>-0.823030</td>\n",
              "      <td>-1.624877</td>\n",
              "      <td>-0.905859</td>\n",
              "    </tr>\n",
              "    <tr>\n",
              "      <th>4</th>\n",
              "      <td>1.416173</td>\n",
              "      <td>1.348995</td>\n",
              "      <td>1.023259</td>\n",
              "      <td>1.138232</td>\n",
              "      <td>1.539747</td>\n",
              "      <td>-0.558820</td>\n",
              "      <td>1.073519</td>\n",
              "    </tr>\n",
              "    <tr>\n",
              "      <th>...</th>\n",
              "      <td>...</td>\n",
              "      <td>...</td>\n",
              "      <td>...</td>\n",
              "      <td>...</td>\n",
              "      <td>...</td>\n",
              "      <td>...</td>\n",
              "      <td>...</td>\n",
              "    </tr>\n",
              "    <tr>\n",
              "      <th>58</th>\n",
              "      <td>-0.895768</td>\n",
              "      <td>-1.028164</td>\n",
              "      <td>0.360675</td>\n",
              "      <td>-1.099487</td>\n",
              "      <td>-0.703429</td>\n",
              "      <td>-0.042571</td>\n",
              "      <td>-1.088170</td>\n",
              "    </tr>\n",
              "    <tr>\n",
              "      <th>59</th>\n",
              "      <td>-0.693687</td>\n",
              "      <td>-0.746257</td>\n",
              "      <td>0.081473</td>\n",
              "      <td>-0.821717</td>\n",
              "      <td>-0.583828</td>\n",
              "      <td>-1.795532</td>\n",
              "      <td>-1.264471</td>\n",
              "    </tr>\n",
              "    <tr>\n",
              "      <th>60</th>\n",
              "      <td>-1.361582</td>\n",
              "      <td>-1.211022</td>\n",
              "      <td>-2.489687</td>\n",
              "      <td>-0.786162</td>\n",
              "      <td>-1.607078</td>\n",
              "      <td>1.064900</td>\n",
              "      <td>-0.457093</td>\n",
              "    </tr>\n",
              "    <tr>\n",
              "      <th>61</th>\n",
              "      <td>-0.656011</td>\n",
              "      <td>-0.593875</td>\n",
              "      <td>-0.647786</td>\n",
              "      <td>-0.303953</td>\n",
              "      <td>-0.583828</td>\n",
              "      <td>1.781079</td>\n",
              "      <td>-0.194645</td>\n",
              "    </tr>\n",
              "    <tr>\n",
              "      <th>62</th>\n",
              "      <td>-0.501882</td>\n",
              "      <td>-0.456731</td>\n",
              "      <td>-0.318578</td>\n",
              "      <td>-0.539502</td>\n",
              "      <td>-0.456254</td>\n",
              "      <td>1.645412</td>\n",
              "      <td>-0.212676</td>\n",
              "    </tr>\n",
              "  </tbody>\n",
              "</table>\n",
              "<p>63 rows × 7 columns</p>\n",
              "</div>\n",
              "      <button class=\"colab-df-convert\" onclick=\"convertToInteractive('df-5787684d-3a83-4e31-a527-c62bcd18b439')\"\n",
              "              title=\"Convert this dataframe to an interactive table.\"\n",
              "              style=\"display:none;\">\n",
              "        \n",
              "  <svg xmlns=\"http://www.w3.org/2000/svg\" height=\"24px\"viewBox=\"0 0 24 24\"\n",
              "       width=\"24px\">\n",
              "    <path d=\"M0 0h24v24H0V0z\" fill=\"none\"/>\n",
              "    <path d=\"M18.56 5.44l.94 2.06.94-2.06 2.06-.94-2.06-.94-.94-2.06-.94 2.06-2.06.94zm-11 1L8.5 8.5l.94-2.06 2.06-.94-2.06-.94L8.5 2.5l-.94 2.06-2.06.94zm10 10l.94 2.06.94-2.06 2.06-.94-2.06-.94-.94-2.06-.94 2.06-2.06.94z\"/><path d=\"M17.41 7.96l-1.37-1.37c-.4-.4-.92-.59-1.43-.59-.52 0-1.04.2-1.43.59L10.3 9.45l-7.72 7.72c-.78.78-.78 2.05 0 2.83L4 21.41c.39.39.9.59 1.41.59.51 0 1.02-.2 1.41-.59l7.78-7.78 2.81-2.81c.8-.78.8-2.07 0-2.86zM5.41 20L4 18.59l7.72-7.72 1.47 1.35L5.41 20z\"/>\n",
              "  </svg>\n",
              "      </button>\n",
              "      \n",
              "  <style>\n",
              "    .colab-df-container {\n",
              "      display:flex;\n",
              "      flex-wrap:wrap;\n",
              "      gap: 12px;\n",
              "    }\n",
              "\n",
              "    .colab-df-convert {\n",
              "      background-color: #E8F0FE;\n",
              "      border: none;\n",
              "      border-radius: 50%;\n",
              "      cursor: pointer;\n",
              "      display: none;\n",
              "      fill: #1967D2;\n",
              "      height: 32px;\n",
              "      padding: 0 0 0 0;\n",
              "      width: 32px;\n",
              "    }\n",
              "\n",
              "    .colab-df-convert:hover {\n",
              "      background-color: #E2EBFA;\n",
              "      box-shadow: 0px 1px 2px rgba(60, 64, 67, 0.3), 0px 1px 3px 1px rgba(60, 64, 67, 0.15);\n",
              "      fill: #174EA6;\n",
              "    }\n",
              "\n",
              "    [theme=dark] .colab-df-convert {\n",
              "      background-color: #3B4455;\n",
              "      fill: #D2E3FC;\n",
              "    }\n",
              "\n",
              "    [theme=dark] .colab-df-convert:hover {\n",
              "      background-color: #434B5C;\n",
              "      box-shadow: 0px 1px 3px 1px rgba(0, 0, 0, 0.15);\n",
              "      filter: drop-shadow(0px 1px 2px rgba(0, 0, 0, 0.3));\n",
              "      fill: #FFFFFF;\n",
              "    }\n",
              "  </style>\n",
              "\n",
              "      <script>\n",
              "        const buttonEl =\n",
              "          document.querySelector('#df-5787684d-3a83-4e31-a527-c62bcd18b439 button.colab-df-convert');\n",
              "        buttonEl.style.display =\n",
              "          google.colab.kernel.accessAllowed ? 'block' : 'none';\n",
              "\n",
              "        async function convertToInteractive(key) {\n",
              "          const element = document.querySelector('#df-5787684d-3a83-4e31-a527-c62bcd18b439');\n",
              "          const dataTable =\n",
              "            await google.colab.kernel.invokeFunction('convertToInteractive',\n",
              "                                                     [key], {});\n",
              "          if (!dataTable) return;\n",
              "\n",
              "          const docLinkHtml = 'Like what you see? Visit the ' +\n",
              "            '<a target=\"_blank\" href=https://colab.research.google.com/notebooks/data_table.ipynb>data table notebook</a>'\n",
              "            + ' to learn more about interactive tables.';\n",
              "          element.innerHTML = '';\n",
              "          dataTable['output_type'] = 'display_data';\n",
              "          await google.colab.output.renderOutput(dataTable, element);\n",
              "          const docLink = document.createElement('div');\n",
              "          docLink.innerHTML = docLinkHtml;\n",
              "          element.appendChild(docLink);\n",
              "        }\n",
              "      </script>\n",
              "    </div>\n",
              "  </div>\n",
              "  "
            ]
          },
          "metadata": {},
          "execution_count": 7
        }
      ]
    },
    {
      "cell_type": "markdown",
      "source": [
        "# PCA\n",
        "### Calculate the covariance matrix and eigen values and eigen vectors"
      ],
      "metadata": {
        "id": "aCClK5Vj_Qop"
      }
    },
    {
      "cell_type": "code",
      "source": [
        "cov_mat = np.cov(X_train_std.T)\n",
        "eigen_vals, eigen_vecs = np.linalg.eig(cov_mat)\n",
        "\n",
        "print('\\nEigenvalues \\n', eigen_vals)"
      ],
      "metadata": {
        "colab": {
          "base_uri": "https://localhost:8080/"
        },
        "id": "BM8lN2Nwd3rH",
        "outputId": "46129ffb-ea58-4e93-a977-98db7859e5a0"
      },
      "execution_count": 8,
      "outputs": [
        {
          "output_type": "stream",
          "name": "stdout",
          "text": [
            "\n",
            "Eigenvalues \n",
            " [4.98127661e+00 1.29867983e+00 6.71183896e-01 7.16986274e-02\n",
            " 1.90146349e-02 8.36794608e-04 5.25481284e-03]\n"
          ]
        }
      ]
    },
    {
      "cell_type": "markdown",
      "source": [
        "### Draw explained Variance and it cumulative value to see the variance of the features."
      ],
      "metadata": {
        "id": "BLkj3nz8_aIf"
      }
    },
    {
      "cell_type": "code",
      "source": [
        "tot = sum(eigen_vals)\n",
        "var_exp = [(i / tot) for i in sorted(eigen_vals, reverse=True)]\n",
        "cum_var_exp = np.cumsum(var_exp)\n",
        "\n",
        "plt.bar(range(1, len(features) + 1), var_exp, align='center',\n",
        "        label='Individual explained variance')\n",
        "plt.step(range(1, len(features) + 1), cum_var_exp, where='mid',\n",
        "         label='Cumulative explained variance')\n",
        "plt.ylabel('Explained variance ratio')\n",
        "plt.xlabel('Principal component index')\n",
        "plt.legend(loc='best')\n",
        "plt.tight_layout()\n",
        "# plt.savefig('figures/05_02.png', dpi=300)\n",
        "plt.show()"
      ],
      "metadata": {
        "colab": {
          "base_uri": "https://localhost:8080/",
          "height": 297
        },
        "id": "virIkj7AeKLh",
        "outputId": "b217a41a-402c-40d5-e0e0-91eb8e494d4e"
      },
      "execution_count": 9,
      "outputs": [
        {
          "output_type": "display_data",
          "data": {
            "text/plain": [
              "<Figure size 432x288 with 1 Axes>"
            ],
            "image/png": "[encoded data removed]"
          },
          "metadata": {
            "needs_background": "light"
          }
        }
      ]
    },
    {
      "cell_type": "markdown",
      "source": [
        "### Using scikit learn PCA and Logistic Regression tools\n"
      ],
      "metadata": {
        "id": "-mLc3sPz_pg7"
      }
    },
    {
      "cell_type": "code",
      "source": [
        "pca = PCA(n_components=len(features))\n",
        "X_train_pca = pca.fit_transform(X_train_std)\n",
        "X_test_pca = pca.transform(X_test_std)\n",
        "\n",
        "lr = LogisticRegression(multi_class='ovr', random_state=1, solver='lbfgs')\n",
        "lr = lr.fit(X_train_pca[:, [0, 1]], y_train)\n"
      ],
      "metadata": {
        "id": "aYAgoRnFfKRp"
      },
      "execution_count": 10,
      "outputs": []
    },
    {
      "cell_type": "markdown",
      "source": [
        "## Plot 3 top principle componants in a 3D scetch \n"
      ],
      "metadata": {
        "id": "JB9lr7gT_15p"
      }
    },
    {
      "cell_type": "markdown",
      "source": [
        "### On the train data"
      ],
      "metadata": {
        "id": "QSIK2kjuJzqM"
      }
    },
    {
      "cell_type": "code",
      "source": [
        "fig = plt.figure()\n",
        "ax = plt.axes(projection='3d')\n",
        "\n",
        "ax.scatter3D(X_train_pca[:, 0], X_train_pca[:, 1], X_train_pca[:, 2], alpha=0.8,\n",
        "            c=y_train)\n",
        "plt.xlabel('PC 1')\n",
        "plt.ylabel('PC2 2')"
      ],
      "metadata": {
        "colab": {
          "base_uri": "https://localhost:8080/",
          "height": 266
        },
        "id": "1-Obt0ryp811",
        "outputId": "4eeab836-f0eb-4fbb-8c7e-f70eda6705ab"
      },
      "execution_count": 11,
      "outputs": [
        {
          "output_type": "execute_result",
          "data": {
            "text/plain": [
              "Text(0.5, 0, 'PC2 2')"
            ]
          },
          "metadata": {},
          "execution_count": 11
        },
        {
          "output_type": "display_data",
          "data": {
            "text/plain": [
              "<Figure size 432x288 with 1 Axes>"
            ],
            "image/png": "[encoded data removed]"
          },
          "metadata": {
            "needs_background": "light"
          }
        }
      ]
    },
    {
      "cell_type": "markdown",
      "source": [
        "### On the test data"
      ],
      "metadata": {
        "id": "ATAh0jiJAbiz"
      }
    },
    {
      "cell_type": "code",
      "source": [
        "fig = plt.figure()\n",
        "ax = plt.axes(projection='3d')\n",
        "\n",
        "ax.scatter3D(X_test_pca[:, 0], X_test_pca[:, 1], X_test_pca[:, 2], alpha=0.8,\n",
        "            c=y_test)\n",
        "plt.xlabel('PC 1')\n",
        "plt.ylabel('PC2 2')"
      ],
      "metadata": {
        "colab": {
          "base_uri": "https://localhost:8080/",
          "height": 266
        },
        "id": "WFk-dXCXATjV",
        "outputId": "6a149914-d0ac-4869-a3a5-7450fb24063d"
      },
      "execution_count": 13,
      "outputs": [
        {
          "output_type": "execute_result",
          "data": {
            "text/plain": [
              "Text(0.5, 0, 'PC2 2')"
            ]
          },
          "metadata": {},
          "execution_count": 13
        },
        {
          "output_type": "display_data",
          "data": {
            "text/plain": [
              "<Figure size 432x288 with 1 Axes>"
            ],
            "image/png": "[encoded data removed]"
          },
          "metadata": {
            "needs_background": "light"
          }
        }
      ]
    },
    {
      "cell_type": "markdown",
      "source": [
        "## Plot 2 top principle componants with decision boundaries using logistic regression\n"
      ],
      "metadata": {
        "id": "LFmb3XCp_66N"
      }
    },
    {
      "cell_type": "markdown",
      "source": [
        "### On the train data"
      ],
      "metadata": {
        "id": "AoZoIm1PJwUj"
      }
    },
    {
      "cell_type": "code",
      "source": [
        "plot_decision_regions(X_train_pca[:, [0, 1]], y_train, classifier=lr)\n",
        "plt.xlabel('PC 1')\n",
        "plt.ylabel('PC 2')\n",
        "plt.legend(loc='lower left')\n",
        "plt.tight_layout()\n",
        "# plt.savefig('figures/05_04.png', dpi=300)\n",
        "plt.show()"
      ],
      "metadata": {
        "colab": {
          "base_uri": "https://localhost:8080/",
          "height": 297
        },
        "id": "wIL4UQdafhgB",
        "outputId": "6272f49e-9bba-4012-914e-c239e9d0c2bf"
      },
      "execution_count": null,
      "outputs": [
        {
          "output_type": "display_data",
          "data": {
            "text/plain": [
              "<Figure size 432x288 with 1 Axes>"
            ],
            "image/png": "[encoded data removed]"
          },
          "metadata": {
            "needs_background": "light"
          }
        }
      ]
    },
    {
      "cell_type": "markdown",
      "source": [
        "### On the test data"
      ],
      "metadata": {
        "id": "5ZfzlRXQAlt9"
      }
    },
    {
      "cell_type": "code",
      "source": [
        "plot_decision_regions(X_test_pca[:, [0, 1]], y_test, classifier=lr)\n",
        "plt.xlabel('PC 1')\n",
        "plt.ylabel('PC 2')\n",
        "plt.legend(loc='lower left')\n",
        "plt.tight_layout()\n",
        "# plt.savefig('figures/05_04.png', dpi=300)\n",
        "plt.show()"
      ],
      "metadata": {
        "colab": {
          "base_uri": "https://localhost:8080/",
          "height": 297
        },
        "id": "_wG_8r7IgHPP",
        "outputId": "f6de5fd2-803b-42f4-b54d-db2c1c8b68b6"
      },
      "execution_count": null,
      "outputs": [
        {
          "output_type": "display_data",
          "data": {
            "text/plain": [
              "<Figure size 432x288 with 1 Axes>"
            ],
            "image/png": "[encoded data removed]"
          },
          "metadata": {
            "needs_background": "light"
          }
        }
      ]
    },
    {
      "cell_type": "markdown",
      "source": [
        "## See the effect of each feature \n",
        "### on the first principle component"
      ],
      "metadata": {
        "id": "iauqcM3jApkF"
      }
    },
    {
      "cell_type": "code",
      "source": [
        "loadings = pca.components_.T * np.sqrt(pca.explained_variance_)\n",
        "\n",
        "fig, ax = plt.subplots()\n",
        "\n",
        "ax.bar(range(len(features)), loadings[:, 0], align='center')\n",
        "ax.set_ylabel('Loadings for PC 1')\n",
        "ax.set_xticks(range(len(features)))\n",
        "ax.set_xticklabels(df.columns[1:], rotation=90)\n",
        "\n",
        "plt.ylim([-1, 1])\n",
        "plt.tight_layout()\n",
        "plt.show()"
      ],
      "metadata": {
        "colab": {
          "base_uri": "https://localhost:8080/",
          "height": 297
        },
        "id": "5YxDEaoGgUcw",
        "outputId": "b80e4a97-2993-4a0c-9a4e-786d061675f1"
      },
      "execution_count": 15,
      "outputs": [
        {
          "output_type": "display_data",
          "data": {
            "text/plain": [
              "<Figure size 432x288 with 1 Axes>"
            ],
            "image/png": "[encoded data removed]"
          },
          "metadata": {
            "needs_background": "light"
          }
        }
      ]
    },
    {
      "cell_type": "markdown",
      "source": [
        "### on the second principle component"
      ],
      "metadata": {
        "id": "iUKs4cLGAzgS"
      }
    },
    {
      "cell_type": "code",
      "source": [
        "fig, ax = plt.subplots()\n",
        "\n",
        "ax.bar(range(len(features)), loadings[:, 1], align='center')\n",
        "ax.set_ylabel('Loadings for PC 2')\n",
        "ax.set_xticks(range(len(features)))\n",
        "ax.set_xticklabels(df.columns[1:], rotation=90)\n",
        "\n",
        "plt.ylim([-1, 1])\n",
        "plt.tight_layout()\n",
        "plt.show()"
      ],
      "metadata": {
        "colab": {
          "base_uri": "https://localhost:8080/",
          "height": 297
        },
        "id": "sVYktXQlA4Va",
        "outputId": "f1c931d7-b2ec-4906-d5e7-135fc3e75cc3"
      },
      "execution_count": 16,
      "outputs": [
        {
          "output_type": "display_data",
          "data": {
            "text/plain": [
              "<Figure size 432x288 with 1 Axes>"
            ],
            "image/png": "[encoded data removed]"
          },
          "metadata": {
            "needs_background": "light"
          }
        }
      ]
    },
    {
      "cell_type": "markdown",
      "source": [
        "### On the third principle component"
      ],
      "metadata": {
        "id": "B4jqlt8zBCMc"
      }
    },
    {
      "cell_type": "code",
      "source": [
        "fig, ax = plt.subplots()\n",
        "\n",
        "ax.bar(range(len(features)), loadings[:, 2], align='center')\n",
        "ax.set_ylabel('Loadings for PC 3')\n",
        "ax.set_xticks(range(len(features)))\n",
        "ax.set_xticklabels(df.columns[1:], rotation=90)\n",
        "\n",
        "plt.ylim([-1, 1])\n",
        "plt.tight_layout()\n",
        "plt.show()"
      ],
      "metadata": {
        "colab": {
          "base_uri": "https://localhost:8080/",
          "height": 297
        },
        "id": "uu2fTq8LgnXM",
        "outputId": "d550ff81-2f9d-4b7f-e764-39103347576b"
      },
      "execution_count": 17,
      "outputs": [
        {
          "output_type": "display_data",
          "data": {
            "text/plain": [
              "<Figure size 432x288 with 1 Axes>"
            ],
            "image/png": "[encoded data removed]"
          },
          "metadata": {
            "needs_background": "light"
          }
        }
      ]
    },
    {
      "cell_type": "markdown",
      "source": [
        "# LDA\n",
        "## Plot Linear Discriminant Analysis with decision boundaries using logistic regression\n"
      ],
      "metadata": {
        "id": "jtx6hQjgBL3X"
      }
    },
    {
      "cell_type": "markdown",
      "source": [
        "### On the train data"
      ],
      "metadata": {
        "id": "1yT66766J7AN"
      }
    },
    {
      "cell_type": "code",
      "source": [
        "lda = LDA(n_components=2)\n",
        "X_train_lda = lda.fit_transform(X_train_std, y_train)\n",
        "X_test_lda = lda.transform(X_test_std)\n",
        "\n",
        "lr = lr.fit(X_train_lda, y_train)\n",
        "\n",
        "plot_decision_regions(X_train_lda, y_train, classifier=lr)\n",
        "plt.xlabel('LD 1')\n",
        "plt.ylabel('LD 2')\n",
        "plt.legend(loc='lower left')\n",
        "plt.tight_layout()\n",
        "# plt.savefig('figures/05_09.png', dpi=300)\n",
        "plt.show()"
      ],
      "metadata": {
        "colab": {
          "base_uri": "https://localhost:8080/",
          "height": 297
        },
        "id": "KkXrWoX_vKIV",
        "outputId": "44f01cce-9f15-4963-8845-80c7dcc8f1ce"
      },
      "execution_count": 18,
      "outputs": [
        {
          "output_type": "display_data",
          "data": {
            "text/plain": [
              "<Figure size 432x288 with 1 Axes>"
            ],
            "image/png": "[encoded data removed]"
          },
          "metadata": {
            "needs_background": "light"
          }
        }
      ]
    },
    {
      "cell_type": "markdown",
      "source": [
        "### On the test data"
      ],
      "metadata": {
        "id": "nMdu7ughBlTP"
      }
    },
    {
      "cell_type": "code",
      "source": [
        "plot_decision_regions(X_test_lda, y_test, classifier=lr)\n",
        "plt.xlabel('LD 1')\n",
        "plt.ylabel('LD 2')\n",
        "plt.legend(loc='lower left')\n",
        "plt.tight_layout()\n",
        "# plt.savefig('figures/05_09.png', dpi=300)\n",
        "plt.show()"
      ],
      "metadata": {
        "colab": {
          "base_uri": "https://localhost:8080/",
          "height": 297
        },
        "id": "2fnvUCDjvwI4",
        "outputId": "cbc9f2e7-d8cd-4d6e-bda8-cb51c53dc0b0"
      },
      "execution_count": 19,
      "outputs": [
        {
          "output_type": "display_data",
          "data": {
            "text/plain": [
              "<Figure size 432x288 with 1 Axes>"
            ],
            "image/png": "[encoded data removed]"
          },
          "metadata": {
            "needs_background": "light"
          }
        }
      ]
    },
    {
      "cell_type": "markdown",
      "source": [
        "# Which one do I choose? Why?\n",
        "\n",
        "## In this case: LDA\n",
        "\n",
        "The answer to the above question cannot always stay identical. The reason is that each of these methods has its own application and can be useful in distinct scenarios. So first of all, let us refer to the book explanation to see how these two methods are compared: \n",
        "\n",
        "LDA is a linear transformation method that makes use of class label data. In non-regularized models. It may be employed as a feature extraction approach to improve computational efficiency and lessen the degree of overfitting brought on by the curse of dimensionality.\n",
        "Similar in idea to PCA, LDA seeks to identify the feature subspace that maximizes class separability rather than PCA's objective of identifying the orthogonal component axes of highest variance in a dataset. \n",
        "\n",
        "While LDA is a supervised method and PCA is an unsupervised approach, both may be used to minimize the number of dimensions in a dataset.\n",
        "As a result, we can believe that LDA is preferable to PCA as a feature extraction method for classification problems.\n",
        "\n",
        "Considering the given explanation, there are some reasons why we would choose LDA over PCA in this assignment:\n",
        "\n",
        "1. LDA is supervised and good for classification as we can get better results by feeding it the labels of the classes.\n",
        "2. LDA uses classes to reduce the dimensionality. However, PCA uses number of features. In this assignment, there are 7 distinct features compared to only 3 different classes. To apply PCA, there are 7 principle components available that each has valuable data within. Therefore, having a mapping from 3 classes to 2 dimensions, seems to be more realistic that mapping from 7 features to only 2 dimensions. \n",
        "3. Also the visual results from the decision boundaries in this assignment prove that LDA results are more reliable than PCA results.\n"
      ],
      "metadata": {
        "id": "DEV31BeGBxlb"
      }
    },
    {
      "cell_type": "code",
      "source": [],
      "metadata": {
        "id": "XJmMVo8bJf_g"
      },
      "execution_count": null,
      "outputs": []
    }
  ]
}